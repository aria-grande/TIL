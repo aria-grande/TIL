{
 "cells": [
  {
   "cell_type": "markdown",
   "metadata": {},
   "source": [
    "# Gradient Descent Graph\n",
    "\n",
    "## Gradient Descent 그래프를 그려보자.\n",
    "\n",
    "Y = X * W 값을 충족하기 위해, (W값을 조정하며) 최적의 W를 찾는 것이 목표이다.\n",
    "\n",
    "\n",
    "$$cost(W) = \\frac{1}{m}\\sum_{k=1}^m{({Wx^i - y^i})^2}$$"
   ]
  },
  {
   "cell_type": "code",
   "execution_count": 88,
   "metadata": {},
   "outputs": [],
   "source": [
    "import tensorflow as tf\n",
    "import matplotlib.pyplot as plt\n",
    "\n",
    "X = [1, 2, 3]\n",
    "Y = [2, 4, 6]\n",
    "\n",
    "W = tf.placeholder(tf.float32)\n",
    "hypothesis = X * W"
   ]
  },
  {
   "cell_type": "code",
   "execution_count": 89,
   "metadata": {},
   "outputs": [],
   "source": [
    "cost = tf.reduce_mean(tf.square(hypothesis - Y)) "
   ]
  },
  {
   "cell_type": "code",
   "execution_count": 45,
   "metadata": {},
   "outputs": [],
   "source": [
    "sess = tf.Session()\n",
    "sess.run(tf.global_variables_initializer())"
   ]
  },
  {
   "cell_type": "code",
   "execution_count": 92,
   "metadata": {},
   "outputs": [],
   "source": [
    "W_val = []\n",
    "cost_val = []\n",
    "for i in range(-30, 60):\n",
    "    feed_W = i * 0.1\n",
    "    cur_cost, cur_W = sess.run([cost, W], feed_dict={W: feed_W})\n",
    "    W_val.append(cur_W)\n",
    "    cost_val.append(cur_cost)"
   ]
  },
  {
   "cell_type": "code",
   "execution_count": 93,
   "metadata": {},
   "outputs": [
    {
     "data": {
      "image/png": "[encoded data removed]",
      "text/plain": [
       "<Figure size 432x288 with 1 Axes>"
      ]
     },
     "metadata": {},
     "output_type": "display_data"
    }
   ],
   "source": [
    "plt.plot(W_val, cost_val)\n",
    "plt.title('Gradient descent')\n",
    "plt.xlabel('W')\n",
    "plt.ylabel('cost(W)')\n",
    "plt.show()"
   ]
  },
  {
   "cell_type": "markdown",
   "metadata": {},
   "source": [
    "## W를 찾아보자\n",
    "\n",
    "$$W := W - a\\frac{1}{m}\\sum_{k=1}^m{({Wx^i - y^i})x^i}$$\n",
    "a는 learning_rate를 의미한다.\n",
    "\n",
    "### fuctions\n",
    "- [tf.Variable](https://tensorflowkorea.gitbooks.io/tensorflow-kr/content/g3doc/how_tos/variables/)"
   ]
  },
  {
   "cell_type": "code",
   "execution_count": 95,
   "metadata": {},
   "outputs": [],
   "source": [
    "x_data = [1, 2, 3]\n",
    "y_data = [1, 2, 3]\n",
    "\n",
    "W = tf.Variable(tf.random_normal([1]), name='weight') # todo: random_normal?\n",
    "X = tf.placeholder(tf.float32)\n",
    "Y = tf.placeholder(tf.float32)\n",
    "\n",
    "hypothesis = X * W\n",
    "cost = tf.reduce_sum(tf.square(hypothesis - Y))"
   ]
  },
  {
   "cell_type": "code",
   "execution_count": 96,
   "metadata": {},
   "outputs": [],
   "source": [
    "# 수식 직접 계산\n",
    "learning_rate = 0.1\n",
    "gradient = tf.reduce_mean((W * X - Y) * X)\n",
    "descent = W - learning_rate * gradient\n",
    "update = W.assign(descent)"
   ]
  },
  {
   "cell_type": "code",
   "execution_count": 97,
   "metadata": {},
   "outputs": [
    {
     "name": "stdout",
     "output_type": "stream",
     "text": [
      "(0, 14.055502, array([-0.00198025], dtype=float32))\n",
      "(1, 3.9980094, array([0.46561053], dtype=float32))\n",
      "(2, 1.1372116, array([0.7149923], dtype=float32))\n",
      "(3, 0.32347342, array([0.8479959], dtype=float32))\n",
      "(4, 0.092010215, array([0.9189311], dtype=float32))\n",
      "(5, 0.02617181, array([0.95676327], dtype=float32))\n",
      "(6, 0.007444436, array([0.9769404], dtype=float32))\n",
      "(7, 0.0021175225, array([0.98770154], dtype=float32))\n",
      "(8, 0.00060232455, array([0.9934408], dtype=float32))\n",
      "(9, 0.0001713279, array([0.99650174], dtype=float32))\n",
      "(10, 4.8732705e-05, array([0.99813426], dtype=float32))\n",
      "(11, 1.3862767e-05, array([0.9990049], dtype=float32))\n",
      "(12, 3.9432884e-06, array([0.9994693], dtype=float32))\n",
      "(13, 1.1218422e-06, array([0.99971694], dtype=float32))\n",
      "(14, 3.191774e-07, array([0.999849], dtype=float32))\n",
      "(15, 9.075303e-08, array([0.9999195], dtype=float32))\n",
      "(16, 2.587122e-08, array([0.999957], dtype=float32))\n",
      "(17, 7.3341653e-09, array([0.9999771], dtype=float32))\n",
      "(18, 2.0946125e-09, array([0.9999878], dtype=float32))\n",
      "(19, 5.932641e-10, array([0.9999935], dtype=float32))\n",
      "(20, 1.698055e-10, array([0.99999654], dtype=float32))\n"
     ]
    }
   ],
   "source": [
    "sess = tf.Session()\n",
    "sess.run(tf.global_variables_initializer()) # TODO: 여기서 하는 일은?\n",
    "for step in range(21):\n",
    "    sess.run(update, feed_dict={X: x_data, Y: y_data})\n",
    "    print(step, sess.run(cost, feed_dict={X: x_data, Y: y_data}), sess.run(W))\n",
    "    "
   ]
  },
  {
   "cell_type": "markdown",
   "metadata": {},
   "source": [
    "## [tf.train.GradientDescentOptimizer](https://www.tensorflow.org/api_docs/python/tf/train/GradientDescentOptimizer)을 이용해보자!\n",
    "\n",
    "굳이 매번 update하고, gradient와 미분을 매번 해주지 않아도 된다."
   ]
  },
  {
   "cell_type": "code",
   "execution_count": 98,
   "metadata": {},
   "outputs": [],
   "source": [
    "X = [1, 2, 3]\n",
    "Y = [1, 2, 3]\n",
    "\n",
    "# -5.0으로 initialize. 말도 안되는 값으로 설정해두면 W가 제 값을 찾아갈까?\n",
    "W = tf.Variable(-5.0)\n",
    "hypothesis = X * W\n",
    "cost = tf.reduce_mean(tf.square(hypothesis - Y))\n",
    "optimizer = tf.train.GradientDescentOptimizer(learning_rate = 0.1)\n",
    "train = optimizer.minimize(cost)"
   ]
  },
  {
   "cell_type": "code",
   "execution_count": 100,
   "metadata": {},
   "outputs": [
    {
     "name": "stdout",
     "output_type": "stream",
     "text": [
      "(0, -5.0)\n",
      "(1, 0.5999999)\n",
      "(2, 0.97333336)\n",
      "(3, 0.99822223)\n",
      "(4, 0.9998815)\n",
      "(5, 0.9999921)\n",
      "(6, 0.99999946)\n",
      "(7, 1.0)\n",
      "(8, 1.0)\n",
      "(9, 1.0)\n",
      "(10, 1.0)\n",
      "(11, 1.0)\n",
      "(12, 1.0)\n",
      "(13, 1.0)\n",
      "(14, 1.0)\n",
      "(15, 1.0)\n",
      "(16, 1.0)\n",
      "(17, 1.0)\n",
      "(18, 1.0)\n",
      "(19, 1.0)\n"
     ]
    }
   ],
   "source": [
    "sess = tf.Session()\n",
    "sess.run(tf.global_variables_initializer())\n",
    "for step in range(20):\n",
    "    print(step, sess.run(W))\n",
    "    sess.run(train)"
   ]
  },
  {
   "cell_type": "code",
   "execution_count": null,
   "metadata": {},
   "outputs": [],
   "source": []
  }
 ],
 "metadata": {
  "kernelspec": {
   "display_name": "Python 2",
   "language": "python",
   "name": "python2"
  },
  "language_info": {
   "codemirror_mode": {
    "name": "ipython",
    "version": 2
   },
   "file_extension": ".py",
   "mimetype": "text/x-python",
   "name": "python",
   "nbconvert_exporter": "python",
   "pygments_lexer": "ipython2",
   "version": "2.7.12"
  }
 },
 "nbformat": 4,
 "nbformat_minor": 2
}

{
 "cells": [
  {
   "cell_type": "markdown",
   "metadata": {},
   "source": [
    "# Linear Regression"
   ]
  },
  {
   "cell_type": "markdown",
   "metadata": {},
   "source": [
    "# Basic\n",
    "- Linear Equation\n",
    "- Linear System: n개의 linear equations 집합\n",
    "- [Reduced Echelon Form](https://ko.wikipedia.org/wiki/%EC%82%AC%EB%8B%A4%EB%A6%AC%EA%BC%B4%ED%96%89%EB%A0%AC)\n",
    "- Vector\n",
    "- [Linear Combination](https://ko.wikipedia.org/wiki/%EC%84%A0%ED%98%95%EA%B2%B0%ED%95%A9)"
   ]
  },
  {
   "cell_type": "markdown",
   "metadata": {},
   "source": [
    "# Numpy"
   ]
  },
  {
   "cell_type": "code",
   "execution_count": 1,
   "metadata": {},
   "outputs": [],
   "source": [
    "import numpy as np"
   ]
  },
  {
   "cell_type": "code",
   "execution_count": 18,
   "metadata": {},
   "outputs": [
    {
     "name": "stdout",
     "output_type": "stream",
     "text": [
      "[[1 2 3]\n",
      " [4 5 6]\n",
      " [7 8 9]]\n"
     ]
    }
   ],
   "source": [
    "a = np.array([[1,2,3],\n",
    "         [4,5,6],\n",
    "         [7,8,9]])\n",
    "print(a)"
   ]
  },
  {
   "cell_type": "code",
   "execution_count": 19,
   "metadata": {},
   "outputs": [
    {
     "name": "stdout",
     "output_type": "stream",
     "text": [
      "[0 1 3]\n"
     ]
    }
   ],
   "source": [
    "b = np.array([0,1,3])\n",
    "print(b)"
   ]
  },
  {
   "cell_type": "code",
   "execution_count": 20,
   "metadata": {},
   "outputs": [
    {
     "name": "stdout",
     "output_type": "stream",
     "text": [
      "(3, 3) (3,)\n"
     ]
    }
   ],
   "source": [
    "print(a.shape, b.shape)"
   ]
  },
  {
   "cell_type": "code",
   "execution_count": 21,
   "metadata": {},
   "outputs": [
    {
     "name": "stdout",
     "output_type": "stream",
     "text": [
      "[[ 0  2  9]\n",
      " [ 0  5 18]\n",
      " [ 0  8 27]]\n"
     ]
    }
   ],
   "source": [
    "c = a * b\n",
    "print(c)"
   ]
  },
  {
   "cell_type": "code",
   "execution_count": 22,
   "metadata": {},
   "outputs": [
    {
     "data": {
      "text/plain": [
       "array([11, 23, 35])"
      ]
     },
     "execution_count": 22,
     "metadata": {},
     "output_type": "execute_result"
    }
   ],
   "source": [
    "a@b # dot product 3.x support, equals to a.dot(b)"
   ]
  },
  {
   "cell_type": "markdown",
   "metadata": {},
   "source": [
    "# Linear Regression\n",
    "\n",
    "아버지와 아들의 키의 상관 관계를 나타내보자.\n",
    "y = wx + b\n",
    "(x: 아버지의 키, y: 아들의 키)\n",
    "\n",
    "아버지의 키가 아들의 키에 어떻게 영향을 미치는지, 인과관계에 따라 x값과 y값이 바뀌죵\n",
    "\n",
    "## Loss function\n",
    "최적의 w와 b를 찾아나가기 위해, 데이터를 피팅해나가며 **실제 값과 예측 값**이 얼마나 차이나는지 계산하는 함수.\n",
    "\n",
    "2차 함수로 표현하는 이유는 미분을 통해 loss의 최솟값(optimize 할 point)을 알아낼 수 있기 때문!\n",
    "\n",
    "## Learning rate\n",
    "Loss function의 최솟값에 도달하기 위해, x를 얼만큼 움직이며 학습 시킬 것인가? \n",
    "[참고](https://github.com/aria-grande/TIL/blob/f14aa50ca2f5007500cd16e82559ab7df8ec662f/ML/ml_dl_introduction.md#%ED%95%99%EC%8A%B5%EB%A5%A0learning-rate)\n",
    "\n",
    "learning rate를 크게 잡아서 학습 시키다가 갈수록 이 값을 줄여서 학습을 시키면서 최적점을 찾아나간다.\n",
    "\n",
    "## 실습\n",
    "인구 수가 도시의 이익에 영향을 어떻게 미치는가?"
   ]
  },
  {
   "cell_type": "code",
   "execution_count": 46,
   "metadata": {},
   "outputs": [
    {
     "name": "stdout",
     "output_type": "stream",
     "text": [
      "Populating the interactive namespace from numpy and matplotlib\n"
     ]
    }
   ],
   "source": [
    "%pylab inline\n",
    "import numpy as np\n",
    "from sklearn.preprocessing import StandardScaler\n",
    "from sklearn.metrics import mean_squared_error"
   ]
  },
  {
   "cell_type": "code",
   "execution_count": 39,
   "metadata": {},
   "outputs": [
    {
     "name": "stdout",
     "output_type": "stream",
     "text": [
      "도시의 갯수는 (97,)\n"
     ]
    }
   ],
   "source": [
    "data = np.loadtxt('./data/ex1data1.txt', delimiter=',')\n",
    "print(\"도시의 갯수는 \" + str(data[:,0].shape))"
   ]
  },
  {
   "cell_type": "code",
   "execution_count": 82,
   "metadata": {},
   "outputs": [
    {
     "data": {
      "text/plain": [
       "<matplotlib.collections.PathCollection at 0x7ff623c27eb8>"
      ]
     },
     "execution_count": 82,
     "metadata": {},
     "output_type": "execute_result"
    },
    {
     "data": {
      "image/png": "[encoded data removed]",
      "text/plain": [
       "<Figure size 432x288 with 1 Axes>"
      ]
     },
     "metadata": {},
     "output_type": "display_data"
    }
   ],
   "source": [
    "X = data[:, 0].reshape(97, 1) # Population\n",
    "Y = data[:, 1].reshape(97, 1) # Profit\n",
    "\n",
    "scaler_x = StandardScaler()\n",
    "scaler_y = StandardScaler()\n",
    "\n",
    "X = scaler_x.fit_transform(X) # 큰 수들을 작은 수로 scaling\n",
    "Y = scaler_y.fit_transform(Y)\n",
    "\n",
    "scatter(X, Y) # X와 Y를 그려보자."
   ]
  },
  {
   "cell_type": "code",
   "execution_count": 83,
   "metadata": {},
   "outputs": [
    {
     "data": {
      "image/png": "[encoded data removed]",
      "text/plain": [
       "<Figure size 432x288 with 9 Axes>"
      ]
     },
     "metadata": {},
     "output_type": "display_data"
    }
   ],
   "source": [
    "weight = np.array([1.89411133]) # 임의의 값을 넣어보자\n",
    "\n",
    "# X: population\n",
    "def predict(weight, X):\n",
    "    N = len(X)\n",
    "    y_pred = weight.dot(X.T) + weight[0] # prediction # .T는 transpose를 의미\n",
    "    y_pred = y_pred.reshape(X.shape)\n",
    "    return y_pred\n",
    "\n",
    "def gradient_descent(X, Y, w, eta=0.1):\n",
    "    N = len(X)\n",
    "    y_pred = predict(w, X)\n",
    "    # Derivation\n",
    "    loss = Y - y_pred\n",
    "    w_delta = 2/N * np.sum(-loss.T.dot(X))\n",
    "    b_delta = 2/N * np.sum(-loss)\n",
    "    # Update\n",
    "    w[1:] = w[1:] - eta * w_delta\n",
    "    w[0] = w[0] - eta * b_delta\n",
    "    return w\n",
    "    \n",
    "\n",
    "# 한 번 학습한거다.\n",
    "gradient_descent(X, Y, weight)\n",
    "\n",
    "# N 번 해보자.\n",
    "for i in range(1, 10):\n",
    "    w = gradient_descent(X, Y, weight)\n",
    "    y_pred = predict(weight, X)\n",
    "    \n",
    "    axes = subplot(3, 3, i) # 그래프를 3 x 3로 나열하는데, i 번째에 그린다.\n",
    "    scatter(X, Y)\n",
    "    plot(X, y_pred, color='red') # 많이 돌릴 수록 학습하는 그래프를 볼 수 있다."
   ]
  }
 ],
 "metadata": {
  "kernelspec": {
   "display_name": "Python 3",
   "language": "python",
   "name": "python3"
  },
  "language_info": {
   "codemirror_mode": {
    "name": "ipython",
    "version": 3
   },
   "file_extension": ".py",
   "mimetype": "text/x-python",
   "name": "python",
   "nbconvert_exporter": "python",
   "pygments_lexer": "ipython3",
   "version": "3.6.5"
  }
 },
 "nbformat": 4,
 "nbformat_minor": 2
}

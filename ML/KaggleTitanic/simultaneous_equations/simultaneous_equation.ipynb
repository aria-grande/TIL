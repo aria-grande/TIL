{
 "cells": [
  {
   "cell_type": "markdown",
   "metadata": {},
   "source": [
    "# Weight가 학습된다는 것의 의미를 알아보는 시간\n",
    "## 연립1차방정식 (simultaneous equation)을 인공신경망으로 풀어봅시다.\n",
    "\n",
    "식 형태) X1\\*W1 + X2\\*W2 = B  \n",
    "eq1) 1\\*W1 + 2\\*W2 = 19  \n",
    "eq2) 3\\*W1 + 4\\*W3 = 43  \n",
    "\n",
    "eq1, eq2를 풀어보면  \n",
    "   3\\*W1 + 6\\*W2 = 57  \n",
    "-) 3\\*W1 + 4\\*W2 = 43  \n",
    "= = = = = = = = = = = = =  \n",
    "          2\\*W2 = 14  \n",
    "                 W2 = 7  \n",
    "                 W1 = 5  \n",
    "                 \n",
    "## Neural Network로 만들어보면\n",
    "X1 -  \n",
    ".......W -  Y(0)  \n",
    "X2 - \n",
    "\n",
    "## 기대 값\n",
    "W = [5, 7]"
   ]
  },
  {
   "cell_type": "code",
   "execution_count": 1,
   "metadata": {},
   "outputs": [
    {
     "name": "stderr",
     "output_type": "stream",
     "text": [
      "/Users/olaf/anaconda3/lib/python3.6/site-packages/h5py/__init__.py:36: FutureWarning: Conversion of the second argument of issubdtype from `float` to `np.floating` is deprecated. In future, it will be treated as `np.float64 == np.dtype(float).type`.\n",
      "  from ._conv import register_converters as _register_converters\n"
     ]
    }
   ],
   "source": [
    "import tensorflow as tf\n",
    "import numpy as np"
   ]
  },
  {
   "cell_type": "code",
   "execution_count": 2,
   "metadata": {},
   "outputs": [],
   "source": [
    "train_set_x = np.array([[1, 2], [3, 4], [5, 6]])\n",
    "train_set_y = np.array([[19], [43], [67]])\n",
    "\n",
    "X = tf.placeholder(tf.float32, [None, 2]) # X1, X2\n",
    "Y = tf.placeholder(tf.float32, [None, 1])"
   ]
  },
  {
   "cell_type": "code",
   "execution_count": 3,
   "metadata": {},
   "outputs": [],
   "source": [
    "W = tf.Variable(tf.random_uniform([2, 1], minval=0., maxval=10.))\n",
    "L = tf.matmul(X, W) # Bias도 입력중 하나로 넣었으므로 X*W만 계산"
   ]
  },
  {
   "cell_type": "code",
   "execution_count": 4,
   "metadata": {},
   "outputs": [],
   "source": [
    "# Mean Squared Error 사용\n",
    "cost = tf.losses.mean_squared_error(Y, L)\n",
    "\n",
    "lr = 0.3\n",
    "# optimizer = tf.train.GradientDescentOptimizer(lr).minimize(cost)\n",
    "optimizer = tf.train.AdamOptimizer(lr).minimize(cost)"
   ]
  },
  {
   "cell_type": "code",
   "execution_count": 5,
   "metadata": {},
   "outputs": [
    {
     "name": "stdout",
     "output_type": "stream",
     "text": [
      "epoch: 1, train cost: 63.181095123291016\n",
      "epoch: 2, train cost: 32.093833923339844\n",
      "epoch: 3, train cost: 11.93789291381836\n",
      "epoch: 4, train cost: 1.8966995477676392\n",
      "epoch: 5, train cost: 0.24203765392303467\n",
      "epoch: 6, train cost: 4.241034507751465\n",
      "epoch: 7, train cost: 10.57368278503418\n",
      "epoch: 8, train cost: 16.248830795288086\n",
      "epoch: 9, train cost: 19.423851013183594\n",
      "epoch: 10, train cost: 19.586153030395508\n",
      "epoch: 11, train cost: 17.20146369934082\n",
      "epoch: 12, train cost: 13.23047161102295\n",
      "epoch: 13, train cost: 8.747342109680176\n",
      "epoch: 14, train cost: 4.695683002471924\n",
      "epoch: 15, train cost: 1.7461961507797241\n",
      "epoch: 16, train cost: 0.22558486461639404\n",
      "epoch: 17, train cost: 0.10627581924200058\n",
      "epoch: 18, train cost: 1.0590778589248657\n",
      "epoch: 19, train cost: 2.5657143592834473\n",
      "epoch: 20, train cost: 4.0684638023376465\n",
      "epoch: 21, train cost: 5.114385604858398\n",
      "epoch: 22, train cost: 5.451385498046875\n",
      "epoch: 23, train cost: 5.054401397705078\n",
      "epoch: 24, train cost: 4.08869743347168\n",
      "epoch: 25, train cost: 2.834120512008667\n",
      "epoch: 26, train cost: 1.5977617502212524\n",
      "epoch: 27, train cost: 0.6363406181335449\n",
      "epoch: 28, train cost: 0.10214772820472717\n",
      "epoch: 29, train cost: 0.020651238039135933\n",
      "epoch: 30, train cost: 0.3013427257537842\n",
      "epoch: 31, train cost: 0.776591956615448\n",
      "epoch: 32, train cost: 1.256406307220459\n",
      "epoch: 33, train cost: 1.5825095176696777\n",
      "epoch: 34, train cost: 1.6664308309555054\n",
      "epoch: 35, train cost: 1.5026952028274536\n",
      "epoch: 36, train cost: 1.1570872068405151\n",
      "epoch: 37, train cost: 0.7370160222053528\n",
      "epoch: 38, train cost: 0.35523128509521484\n",
      "epoch: 39, train cost: 0.0973658561706543\n",
      "epoch: 40, train cost: 0.0016785241896286607\n",
      "epoch: 41, train cost: 0.05497100576758385\n",
      "epoch: 42, train cost: 0.20383979380130768\n",
      "epoch: 43, train cost: 0.3762350380420685\n",
      "epoch: 44, train cost: 0.5057089924812317\n",
      "epoch: 45, train cost: 0.5505149960517883\n",
      "epoch: 46, train cost: 0.5024842619895935\n",
      "epoch: 47, train cost: 0.3842085599899292\n",
      "epoch: 48, train cost: 0.23716597259044647\n",
      "epoch: 49, train cost: 0.10580509901046753\n",
      "epoch: 50, train cost: 0.023016415536403656\n",
      "epoch: 51, train cost: 0.0014199415454640985\n",
      "epoch: 52, train cost: 0.03238871321082115\n",
      "epoch: 53, train cost: 0.09207499772310257\n",
      "epoch: 54, train cost: 0.1515423059463501\n",
      "epoch: 55, train cost: 0.18709880113601685\n",
      "epoch: 56, train cost: 0.1873386651277542\n",
      "epoch: 57, train cost: 0.15501487255096436\n",
      "epoch: 58, train cost: 0.10380402207374573\n",
      "epoch: 59, train cost: 0.05187739431858063\n",
      "epoch: 60, train cost: 0.014892476610839367\n",
      "epoch: 61, train cost: 0.0009295702911913395\n",
      "epoch: 62, train cost: 0.008852074854075909\n",
      "epoch: 63, train cost: 0.03015710413455963\n",
      "epoch: 64, train cost: 0.053167570382356644\n",
      "epoch: 65, train cost: 0.06771378964185715\n",
      "epoch: 66, train cost: 0.06855867803096771\n",
      "epoch: 67, train cost: 0.05648891627788544\n",
      "epoch: 68, train cost: 0.03704368695616722\n",
      "epoch: 69, train cost: 0.017663072794675827\n",
      "epoch: 70, train cost: 0.004616520833224058\n",
      "epoch: 71, train cost: 0.000818365253508091\n",
      "epoch: 72, train cost: 0.0052748918533325195\n",
      "epoch: 73, train cost: 0.014089987613260746\n",
      "epoch: 74, train cost: 0.02242855727672577\n",
      "epoch: 75, train cost: 0.026530228555202484\n",
      "epoch: 76, train cost: 0.024984652176499367\n",
      "epoch: 77, train cost: 0.01888975501060486\n",
      "epoch: 78, train cost: 0.010997307486832142\n",
      "epoch: 79, train cost: 0.004346440080553293\n",
      "epoch: 80, train cost: 0.0009988502133637667\n",
      "epoch: 81, train cost: 0.0013703824952244759\n",
      "epoch: 82, train cost: 0.004334522411227226\n",
      "epoch: 83, train cost: 0.007935297675430775\n",
      "epoch: 84, train cost: 0.010320368222892284\n",
      "epoch: 85, train cost: 0.010484264232218266\n",
      "epoch: 86, train cost: 0.008537592366337776\n",
      "epoch: 87, train cost: 0.005473446566611528\n",
      "epoch: 88, train cost: 0.0025993387680500746\n",
      "epoch: 89, train cost: 0.0009339933167211711\n",
      "epoch: 90, train cost: 0.000821016903501004\n",
      "epoch: 91, train cost: 0.0018974444828927517\n",
      "epoch: 92, train cost: 0.0033660046756267548\n",
      "epoch: 93, train cost: 0.004410629626363516\n",
      "epoch: 94, train cost: 0.004552321042865515\n",
      "epoch: 95, train cost: 0.0037993723526597023\n",
      "epoch: 96, train cost: 0.002558354288339615\n",
      "epoch: 97, train cost: 0.001388714648783207\n",
      "epoch: 98, train cost: 0.0007272297516465187\n",
      "epoch: 99, train cost: 0.000714636582415551\n",
      "epoch: 100, train cost: 0.0011824782704934478\n",
      "W = [[5.0697055]\n",
      " [6.950346 ]]\n"
     ]
    }
   ],
   "source": [
    "init = tf.global_variables_initializer()\n",
    "with tf.Session() as sess:\n",
    "  sess.run(init)\n",
    "  max_epoch = 100\n",
    "\n",
    "  for epoch in range(max_epoch):\n",
    "      sess.run(optimizer, feed_dict={X: train_set_x, Y: train_set_y})\n",
    "        \n",
    "      print(\"epoch: {}, train cost: {}\".format(\n",
    "            epoch + 1, \n",
    "            sess.run(cost, feed_dict={X: train_set_x, Y: train_set_y}),\n",
    "      ))\n",
    "  print(\"W = {}\".format(sess.run(W)))"
   ]
  },
  {
   "cell_type": "code",
   "execution_count": null,
   "metadata": {},
   "outputs": [],
   "source": []
  }
 ],
 "metadata": {
  "kernelspec": {
   "display_name": "Python 3",
   "language": "python",
   "name": "python3"
  },
  "language_info": {
   "codemirror_mode": {
    "name": "ipython",
    "version": 3
   },
   "file_extension": ".py",
   "mimetype": "text/x-python",
   "name": "python",
   "nbconvert_exporter": "python",
   "pygments_lexer": "ipython3",
   "version": "3.6.5"
  }
 },
 "nbformat": 4,
 "nbformat_minor": 2
}
